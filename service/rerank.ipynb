{
 "cells": [
  {
   "cell_type": "code",
   "execution_count": null,
   "id": "4875508a",
   "metadata": {},
   "outputs": [],
   "source": [
    "\"\"\"\n",
    "test code for rerank\n",
    "\"\"\""
   ]
  },
  {
   "cell_type": "code",
   "execution_count": 1,
   "id": "0644bef7-478a-4eb3-ab09-0f48ac2953d4",
   "metadata": {},
   "outputs": [
    {
     "name": "stderr",
     "output_type": "stream",
     "text": [
      "/mnt/petrelfs/liuziyu/miniconda3/envs/soda/lib/python3.10/site-packages/tqdm/auto.py:21: TqdmWarning: IProgress not found. Please update jupyter and ipywidgets. See https://ipywidgets.readthedocs.io/en/stable/user_install.html\n",
      "  from .autonotebook import tqdm as notebook_tqdm\n",
      "/mnt/petrelfs/liuziyu/miniconda3/envs/soda/lib/python3.10/site-packages/torch/_utils.py:831: UserWarning: TypedStorage is deprecated. It will be removed in the future and UntypedStorage will be the only storage class. This should only matter to you if you are using storages directly.  To access UntypedStorage directly, use tensor.untyped_storage() instead of tensor.storage()\n",
      "  return self.fget.__get__(instance, owner)()\n"
     ]
    }
   ],
   "source": [
    "from sentence_transformers import CrossEncoder\n",
    "cross_encoder_model = CrossEncoder('cross-encoder/ms-marco-MiniLM-L-6-v2', max_length=512)"
   ]
  },
  {
   "cell_type": "code",
   "execution_count": 7,
   "id": "93af7e00-0f27-4b24-bd83-1cf1dbf52552",
   "metadata": {},
   "outputs": [
    {
     "name": "stdout",
     "output_type": "stream",
     "text": [
      "[-9.597101   -8.573202   -7.995801   -0.78380984]\n",
      "['Thank you', 'you are welcome', 'Good afternoon', 'Today is Friday']\n"
     ]
    }
   ],
   "source": [
    "import numpy as np\n",
    "query_text = \"Thanks\"\n",
    "str_list = [\"Today is Friday\", \"Good afternoon\", \"you are welcome\", \"Thank you\"]\n",
    "input_cross_encoder = [(query_text, s) for s in str_list]\n",
    "rerank_scores = cross_encoder_model.predict(input_cross_encoder)\n",
    "print(rerank_scores)\n",
    "sorted_str_list = [x for _, x in sorted(zip(rerank_scores, str_list), reverse=True)]\n",
    "print(sorted_str_list)"
   ]
  },
  {
   "cell_type": "code",
   "execution_count": null,
   "id": "c29a3b38-f975-4c34-ad5c-df16095a1b8c",
   "metadata": {},
   "outputs": [],
   "source": []
  }
 ],
 "metadata": {
  "kernelspec": {
   "display_name": "Python 3 (ipykernel)",
   "language": "python",
   "name": "python3"
  },
  "language_info": {
   "codemirror_mode": {
    "name": "ipython",
    "version": 3
   },
   "file_extension": ".py",
   "mimetype": "text/x-python",
   "name": "python",
   "nbconvert_exporter": "python",
   "pygments_lexer": "ipython3",
   "version": "3.10.13"
  }
 },
 "nbformat": 4,
 "nbformat_minor": 5
}
