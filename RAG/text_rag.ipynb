{
 "cells": [
  {
   "cell_type": "code",
   "execution_count": null,
   "id": "54c60bec-0433-4590-b51a-265a31162bd7",
   "metadata": {},
   "outputs": [],
   "source": [
    "from utils import preprocess_files, build_text_database"
   ]
  },
  {
   "cell_type": "code",
   "execution_count": null,
   "id": "d382be04-6140-4749-a6f9-071d4a70b524",
   "metadata": {},
   "outputs": [],
   "source": [
    "### upload PDF TXT or DOCX file\n",
    "docs = preprocess_files(file_path=\"RAR-pr.docx\",chunk_size=1000, chunk_overlap=50)"
   ]
  },
  {
   "cell_type": "code",
   "execution_count": null,
   "id": "1972207e-2fe1-4346-ad2c-f4dfa77c686c",
   "metadata": {},
   "outputs": [],
   "source": [
    "docs"
   ]
  },
  {
   "cell_type": "code",
   "execution_count": null,
   "id": "780ef08c-a9d7-4da6-9be5-f7876c2d3b81",
   "metadata": {},
   "outputs": [],
   "source": [
    "### build database\n",
    "txt_collection = build_text_database(docs, batch_size=40000, encoder=\"intfloat/multilingual-e5-base\", database_name = \"test\")"
   ]
  },
  {
   "cell_type": "code",
   "execution_count": null,
   "id": "a4b7cac3-fdd2-4871-a617-4cff0899af7e",
   "metadata": {},
   "outputs": [],
   "source": [
    "### change query_text to retrieve\n",
    "query_text = \"What is the database consisted of\"\n",
    "n_text = 10\n",
    "ans = txt_collection.query(\n",
    "    query_texts=[query_text],\n",
    "    n_results=n_text\n",
    ")\n",
    "print(ans)"
   ]
  },
  {
   "cell_type": "code",
   "execution_count": null,
   "id": "4b98ed5d-2180-45b2-823f-54cd2ce95ec9",
   "metadata": {},
   "outputs": [],
   "source": []
  }
 ],
 "metadata": {
  "kernelspec": {
   "display_name": "Python 3 (ipykernel)",
   "language": "python",
   "name": "python3"
  },
  "language_info": {
   "codemirror_mode": {
    "name": "ipython",
    "version": 3
   },
   "file_extension": ".py",
   "mimetype": "text/x-python",
   "name": "python",
   "nbconvert_exporter": "python",
   "pygments_lexer": "ipython3",
   "version": "3.10.13"
  }
 },
 "nbformat": 4,
 "nbformat_minor": 5
}
