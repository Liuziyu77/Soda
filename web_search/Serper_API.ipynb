{
 "cells": [
  {
   "cell_type": "code",
   "execution_count": 30,
   "id": "3e7cb826-e7da-4bc1-8024-73bce8cbb410",
   "metadata": {},
   "outputs": [
    {
     "name": "stdout",
     "output_type": "stream",
     "text": [
      "{\"searchParameters\":{\"q\":\"lions\",\"type\":\"videos\",\"num\":10,\"engine\":\"google\"},\"videos\":[{\"title\":\"Jake Bates DOES IT AGAIN....The Detroit Lions ... - YouTube\",\"link\":\"https://www.youtube.com/watch?v=kLX17H48ios\",\"snippet\":\"... Lions resonates with every fan, \\\"Lions Syndicate\\\" brings you another electrifying update that you simply can't miss. \\\"Jake Bates DOES ...\",\"imageUrl\":\"https://i.ytimg.com/vi/kLX17H48ios/mqdefault.jpg?sqp=-oaymwEFCJQBEFM&rs=AMzJL3mQ8U8YW-sY56CrG1KlKj-m2v9-iw\",\"duration\":\"6:51\",\"source\":\"YouTube\",\"channel\":\"Lions Syndicate\",\"date\":\"10 hours ago\",\"position\":1},{\"title\":\"Detroit Lions News And A Mock Draft - YouTube\",\"link\":\"https://www.youtube.com/watch?v=KvxOKLOkOAQ\",\"snippet\":\"Detroit Lions News And A Mock Draft In this episode of the Detroit Lions Podcast, Chris and Jeff are finally back! Its been a bit since the ...\",\"imageUrl\":\"https://i.ytimg.com/vi/KvxOKLOkOAQ/mqdefault.jpg?sqp=-oaymwEFCJQBEFM&rs=AMzJL3ll1UxiFsfNUmOnZF2k7xnLT3O6bA\",\"duration\":\"1:33:36\",\"source\":\"YouTube\",\"channel\":\"Detroit Lions Podcast\",\"date\":\"1 day ago\",\"position\":2},{\"title\":\"Diving into Detroit Lions 7-Round Mock Draft from Erik Schlitt\",\"link\":\"https://www.youtube.com/watch?v=JpaR3ACFNeE\",\"snippet\":\"Pride of Detroit's very own Erik Schlitt conducted a 7-round mock draft for the Detroit Lions. Tune in to see if Meko and Morgan agree with ...\",\"imageUrl\":\"https://i.ytimg.com/vi/JpaR3ACFNeE/mqdefault.jpg?sqp=-oaymwEFCJQBEFM&rs=AMzJL3nTOOIw-4vS-OPilwrELuGG3mJoAg\",\"duration\":\"31:10\",\"source\":\"YouTube\",\"channel\":\"Pride of Detroit\",\"date\":\"1 day ago\",\"position\":3},{\"title\":\"Alim McNeill Is A BEAST For The Lions - YouTube\",\"link\":\"https://www.youtube.com/watch?v=wWF71AtKm7E\",\"snippet\":\"Alim doesn't get a lot of hype but he's a top 10 DT imo. I think he's gonna have a huge 2024 season for The Lions with double digit sacks.\",\"imageUrl\":\"https://i.ytimg.com/vi/wWF71AtKm7E/mqdefault.jpg?sqp=-oaymwEFCJQBEFM&rs=AMzJL3nsm_9Q3gP0XlJP3xacRtERJRA5Sg\",\"duration\":\"22:15\",\"source\":\"YouTube\",\"channel\":\"Green Light with Chris Long\",\"date\":\"14 hours ago\",\"position\":4},{\"title\":\"Opening Day and the Detroit Lions still get the loudest ovation\",\"link\":\"https://www.youtube.com/watch?v=Difxt8qW0cs\",\"snippet\":\"Opening Day and the Detroit Lions still get the loudest ovation. 1.8K views · 5 hours ago Locked On Lions Podcast ...more. Locked On Lions. 10.7 ...\",\"imageUrl\":\"https://i.ytimg.com/vi/Difxt8qW0cs/mqdefault.jpg?sqp=-oaymwEFCJQBEFM&rs=AMzJL3nVHORSmC8Qp8liO59MNEfkPBPkaQ\",\"duration\":\"25:56\",\"source\":\"YouTube\",\"channel\":\"Locked On Lions\",\"date\":\"2 days ago\",\"position\":5},{\"title\":\"Detroit Lions Mailbag Rumors: Sign Xavien Howard & Tyler ...\",\"link\":\"https://www.youtube.com/watch?v=TCUpU3dcZvU\",\"snippet\":\"Detroit Lions rumors begin with the Detroit Lions signing Free Agenct CB Xavien Howard. The Lions need help on defense and get a veteran CB ...\",\"imageUrl\":\"https://i.ytimg.com/vi/TCUpU3dcZvU/mqdefault.jpg?sqp=-oaymwEFCJQBEFM&rs=AMzJL3nPek0pKF5q9EJo-Kkc6llMyh5QuA\",\"duration\":\"13:59\",\"source\":\"YouTube\",\"channel\":\"Lions Talk by Chat Sports\",\"date\":\"1 day ago\",\"position\":6},{\"title\":\"How Much BETTER Are the Detroit Lions? - YouTube\",\"link\":\"https://www.youtube.com/watch?v=IKruZqpva4s\",\"snippet\":\"Ryan Ermanni, Braylon Edwards and Tom Mazawey discuss the Detroit Lions free agent signings and how the crop of new players will affect the ...\",\"imageUrl\":\"https://i.ytimg.com/vi/IKruZqpva4s/mqdefault.jpg?sqp=-oaymwEFCJQBEFM&rs=AMzJL3mjl4P_pMfRT16kFOXcI1dvmNyq6w\",\"duration\":\"14:32\",\"source\":\"YouTube\",\"channel\":\"WoodwardSports\",\"date\":\"3 weeks ago\",\"position\":7},{\"title\":\"I Don't Think We Realize What The Detroit Lions Just Did..\",\"link\":\"https://www.youtube.com/watch?v=dYSSHgYPERM\",\"snippet\":\"No mention of Amik Robertson coming to the lions from the raiders. I'm excited to see what he can do too he wanted to be a lion baaaad.\",\"imageUrl\":\"https://i.ytimg.com/vi/dYSSHgYPERM/mqdefault.jpg?sqp=-oaymwEFCJQBEFM&rs=AMzJL3ly3aAsp2Ma_rifiEf4PsddliNd0A\",\"duration\":\"8:35\",\"source\":\"YouTube\",\"channel\":\"Football Logic\",\"date\":\"1 week ago\",\"position\":8},{\"title\":\"Detroit Lions Are Setting Up A Huge Draft Move - YouTube\",\"link\":\"https://www.youtube.com/watch?v=Fvxq3w_jR8A\",\"snippet\":\"Detroit Lions Are Setting Up A Huge Draft Move. detroit lions news and rumors. detroit lions are for sure going to trade their pick in the ...\",\"imageUrl\":\"https://i.ytimg.com/vi/Fvxq3w_jR8A/mqdefault.jpg?sqp=-oaymwEFCJQBEFM&rs=AMzJL3nrmm2_-p_OJruEODf9H9armk6Btg\",\"duration\":\"8:06\",\"source\":\"YouTube\",\"channel\":\"Sports Talk Detroit\",\"date\":\"7 hours ago\",\"position\":9},{\"title\":\"Zeitler on living up to the standard that's been set - Detroit Lions\",\"link\":\"https://www.detroitlions.com/video/zeitler-on-living-up-to-the-standard-that-s-been-set\",\"snippet\":\"Wood on continued growth throughout the organization. President and CEO Rod Wood speaks to the media about the future of the Lions organization at the 2024 NFL ...\",\"imageUrl\":\"https://encrypted-tbn0.gstatic.com/images?q=tbn:ANd9GcSVOSzC6dO3nIo29HBfspJQObbJVNOR7qBiQLeSEZeCcjsp&s\",\"source\":\"Detroit Lions\",\"date\":\"3 weeks ago\",\"position\":10}]}\n"
     ]
    }
   ],
   "source": [
    "import requests\n",
    "import json\n",
    "from IPython.display import HTML\n",
    "\n",
    "### choose between images or videos\n",
    "# search_type = \"images\"\n",
    "search_type = \"videos\"\n",
    "url = f\"https://google.serper.dev/{search_type}\"\n",
    "\n",
    "payload = json.dumps({\n",
    "  \"q\": \"lions\",\n",
    "  \"num\": 10\n",
    "})\n",
    "headers = {\n",
    "  'X-API-KEY': '*************************************',\n",
    "  'Content-Type': 'application/json'\n",
    "}\n",
    "\n",
    "response = requests.request(\"POST\", url, headers=headers, data=payload)\n",
    "\n",
    "print(response.text)"
   ]
  },
  {
   "cell_type": "code",
   "execution_count": 31,
   "id": "6c70f0ff-3e96-4974-b97e-12a3d5f85813",
   "metadata": {},
   "outputs": [
    {
     "name": "stdout",
     "output_type": "stream",
     "text": [
      "<class 'dict'>\n"
     ]
    }
   ],
   "source": [
    "search_results = json.loads(response.text)\n",
    "print(type(search_results))"
   ]
  },
  {
   "cell_type": "code",
   "execution_count": 32,
   "id": "6a90bde5-d68e-409e-8e8a-06b56c6b4afc",
   "metadata": {},
   "outputs": [
    {
     "name": "stdout",
     "output_type": "stream",
     "text": [
      "dict_keys(['searchParameters', 'videos'])\n"
     ]
    }
   ],
   "source": [
    "print(search_results.keys())"
   ]
  },
  {
   "cell_type": "code",
   "execution_count": 33,
   "id": "220491af-2c00-48c5-96be-d52e7ec91f7c",
   "metadata": {},
   "outputs": [
    {
     "name": "stdout",
     "output_type": "stream",
     "text": [
      "{'q': 'lions', 'type': 'videos', 'num': 10, 'engine': 'google'}\n",
      "10\n",
      "[{'title': 'Jake Bates DOES IT AGAIN....The Detroit Lions ... - YouTube', 'link': 'https://www.youtube.com/watch?v=kLX17H48ios', 'snippet': '... Lions resonates with every fan, \"Lions Syndicate\" brings you another electrifying update that you simply can\\'t miss. \"Jake Bates DOES ...', 'imageUrl': 'https://i.ytimg.com/vi/kLX17H48ios/mqdefault.jpg?sqp=-oaymwEFCJQBEFM&rs=AMzJL3mQ8U8YW-sY56CrG1KlKj-m2v9-iw', 'duration': '6:51', 'source': 'YouTube', 'channel': 'Lions Syndicate', 'date': '10 hours ago', 'position': 1}, {'title': 'Detroit Lions News And A Mock Draft - YouTube', 'link': 'https://www.youtube.com/watch?v=KvxOKLOkOAQ', 'snippet': 'Detroit Lions News And A Mock Draft In this episode of the Detroit Lions Podcast, Chris and Jeff are finally back! Its been a bit since the ...', 'imageUrl': 'https://i.ytimg.com/vi/KvxOKLOkOAQ/mqdefault.jpg?sqp=-oaymwEFCJQBEFM&rs=AMzJL3ll1UxiFsfNUmOnZF2k7xnLT3O6bA', 'duration': '1:33:36', 'source': 'YouTube', 'channel': 'Detroit Lions Podcast', 'date': '1 day ago', 'position': 2}, {'title': 'Diving into Detroit Lions 7-Round Mock Draft from Erik Schlitt', 'link': 'https://www.youtube.com/watch?v=JpaR3ACFNeE', 'snippet': \"Pride of Detroit's very own Erik Schlitt conducted a 7-round mock draft for the Detroit Lions. Tune in to see if Meko and Morgan agree with ...\", 'imageUrl': 'https://i.ytimg.com/vi/JpaR3ACFNeE/mqdefault.jpg?sqp=-oaymwEFCJQBEFM&rs=AMzJL3nTOOIw-4vS-OPilwrELuGG3mJoAg', 'duration': '31:10', 'source': 'YouTube', 'channel': 'Pride of Detroit', 'date': '1 day ago', 'position': 3}, {'title': 'Alim McNeill Is A BEAST For The Lions - YouTube', 'link': 'https://www.youtube.com/watch?v=wWF71AtKm7E', 'snippet': \"Alim doesn't get a lot of hype but he's a top 10 DT imo. I think he's gonna have a huge 2024 season for The Lions with double digit sacks.\", 'imageUrl': 'https://i.ytimg.com/vi/wWF71AtKm7E/mqdefault.jpg?sqp=-oaymwEFCJQBEFM&rs=AMzJL3nsm_9Q3gP0XlJP3xacRtERJRA5Sg', 'duration': '22:15', 'source': 'YouTube', 'channel': 'Green Light with Chris Long', 'date': '14 hours ago', 'position': 4}, {'title': 'Opening Day and the Detroit Lions still get the loudest ovation', 'link': 'https://www.youtube.com/watch?v=Difxt8qW0cs', 'snippet': 'Opening Day and the Detroit Lions still get the loudest ovation. 1.8K views · 5 hours ago Locked On Lions Podcast ...more. Locked On Lions. 10.7 ...', 'imageUrl': 'https://i.ytimg.com/vi/Difxt8qW0cs/mqdefault.jpg?sqp=-oaymwEFCJQBEFM&rs=AMzJL3nVHORSmC8Qp8liO59MNEfkPBPkaQ', 'duration': '25:56', 'source': 'YouTube', 'channel': 'Locked On Lions', 'date': '2 days ago', 'position': 5}, {'title': 'Detroit Lions Mailbag Rumors: Sign Xavien Howard & Tyler ...', 'link': 'https://www.youtube.com/watch?v=TCUpU3dcZvU', 'snippet': 'Detroit Lions rumors begin with the Detroit Lions signing Free Agenct CB Xavien Howard. The Lions need help on defense and get a veteran CB ...', 'imageUrl': 'https://i.ytimg.com/vi/TCUpU3dcZvU/mqdefault.jpg?sqp=-oaymwEFCJQBEFM&rs=AMzJL3nPek0pKF5q9EJo-Kkc6llMyh5QuA', 'duration': '13:59', 'source': 'YouTube', 'channel': 'Lions Talk by Chat Sports', 'date': '1 day ago', 'position': 6}, {'title': 'How Much BETTER Are the Detroit Lions? - YouTube', 'link': 'https://www.youtube.com/watch?v=IKruZqpva4s', 'snippet': 'Ryan Ermanni, Braylon Edwards and Tom Mazawey discuss the Detroit Lions free agent signings and how the crop of new players will affect the ...', 'imageUrl': 'https://i.ytimg.com/vi/IKruZqpva4s/mqdefault.jpg?sqp=-oaymwEFCJQBEFM&rs=AMzJL3mjl4P_pMfRT16kFOXcI1dvmNyq6w', 'duration': '14:32', 'source': 'YouTube', 'channel': 'WoodwardSports', 'date': '3 weeks ago', 'position': 7}, {'title': \"I Don't Think We Realize What The Detroit Lions Just Did..\", 'link': 'https://www.youtube.com/watch?v=dYSSHgYPERM', 'snippet': \"No mention of Amik Robertson coming to the lions from the raiders. I'm excited to see what he can do too he wanted to be a lion baaaad.\", 'imageUrl': 'https://i.ytimg.com/vi/dYSSHgYPERM/mqdefault.jpg?sqp=-oaymwEFCJQBEFM&rs=AMzJL3ly3aAsp2Ma_rifiEf4PsddliNd0A', 'duration': '8:35', 'source': 'YouTube', 'channel': 'Football Logic', 'date': '1 week ago', 'position': 8}, {'title': 'Detroit Lions Are Setting Up A Huge Draft Move - YouTube', 'link': 'https://www.youtube.com/watch?v=Fvxq3w_jR8A', 'snippet': 'Detroit Lions Are Setting Up A Huge Draft Move. detroit lions news and rumors. detroit lions are for sure going to trade their pick in the ...', 'imageUrl': 'https://i.ytimg.com/vi/Fvxq3w_jR8A/mqdefault.jpg?sqp=-oaymwEFCJQBEFM&rs=AMzJL3nrmm2_-p_OJruEODf9H9armk6Btg', 'duration': '8:06', 'source': 'YouTube', 'channel': 'Sports Talk Detroit', 'date': '7 hours ago', 'position': 9}, {'title': \"Zeitler on living up to the standard that's been set - Detroit Lions\", 'link': 'https://www.detroitlions.com/video/zeitler-on-living-up-to-the-standard-that-s-been-set', 'snippet': 'Wood on continued growth throughout the organization. President and CEO Rod Wood speaks to the media about the future of the Lions organization at the 2024 NFL ...', 'imageUrl': 'https://encrypted-tbn0.gstatic.com/images?q=tbn:ANd9GcSVOSzC6dO3nIo29HBfspJQObbJVNOR7qBiQLeSEZeCcjsp&s', 'source': 'Detroit Lions', 'date': '3 weeks ago', 'position': 10}]\n",
      "{'title': 'Jake Bates DOES IT AGAIN....The Detroit Lions ... - YouTube', 'link': 'https://www.youtube.com/watch?v=kLX17H48ios', 'snippet': '... Lions resonates with every fan, \"Lions Syndicate\" brings you another electrifying update that you simply can\\'t miss. \"Jake Bates DOES ...', 'imageUrl': 'https://i.ytimg.com/vi/kLX17H48ios/mqdefault.jpg?sqp=-oaymwEFCJQBEFM&rs=AMzJL3mQ8U8YW-sY56CrG1KlKj-m2v9-iw', 'duration': '6:51', 'source': 'YouTube', 'channel': 'Lions Syndicate', 'date': '10 hours ago', 'position': 1}\n"
     ]
    }
   ],
   "source": [
    "if search_type == \"images\":\n",
    "    print(search_results[\"searchParameters\"])\n",
    "    print(len(search_results[\"images\"]))\n",
    "    print(search_results[\"images\"])\n",
    "    print(search_results[\"images\"][0])\n",
    "elif search_type == \"videos\":\n",
    "    print(search_results[\"searchParameters\"])\n",
    "    print(len(search_results[\"videos\"]))\n",
    "    print(search_results[\"videos\"])\n",
    "    print(search_results[\"videos\"][0])"
   ]
  },
  {
   "cell_type": "code",
   "execution_count": 38,
   "id": "020c7e8c-a5a3-4ee9-af13-7aa3fd8ebb5c",
   "metadata": {},
   "outputs": [
    {
     "data": {
      "text/html": [
       "<table><tr>\n",
       "                           <td><a href=\"https://www.youtube.com/watch?v=kLX17H48ios\">Jake Bates DOES IT AGAIN....The Detroit Lions ... - YouTube</a></td>\n",
       "                           <td>... Lions resonates with every fan, \"Lions Syndicate\" brings you another electrifying update that you simply can't miss. \"Jake Bates DOES ...</td>\n",
       "                           <td>https://i.ytimg.com/vi/kLX17H48ios/mqdefault.jpg?sqp=-oaymwEFCJQBEFM&rs=AMzJL3mQ8U8YW-sY56CrG1KlKj-m2v9-iw</td>\n",
       "                         </tr>\n",
       "<tr>\n",
       "                           <td><a href=\"https://www.youtube.com/watch?v=KvxOKLOkOAQ\">Detroit Lions News And A Mock Draft - YouTube</a></td>\n",
       "                           <td>Detroit Lions News And A Mock Draft In this episode of the Detroit Lions Podcast, Chris and Jeff are finally back! Its been a bit since the ...</td>\n",
       "                           <td>https://i.ytimg.com/vi/KvxOKLOkOAQ/mqdefault.jpg?sqp=-oaymwEFCJQBEFM&rs=AMzJL3ll1UxiFsfNUmOnZF2k7xnLT3O6bA</td>\n",
       "                         </tr>\n",
       "<tr>\n",
       "                           <td><a href=\"https://www.youtube.com/watch?v=JpaR3ACFNeE\">Diving into Detroit Lions 7-Round Mock Draft from Erik Schlitt</a></td>\n",
       "                           <td>Pride of Detroit's very own Erik Schlitt conducted a 7-round mock draft for the Detroit Lions. Tune in to see if Meko and Morgan agree with ...</td>\n",
       "                           <td>https://i.ytimg.com/vi/JpaR3ACFNeE/mqdefault.jpg?sqp=-oaymwEFCJQBEFM&rs=AMzJL3nTOOIw-4vS-OPilwrELuGG3mJoAg</td>\n",
       "                         </tr>\n",
       "<tr>\n",
       "                           <td><a href=\"https://www.youtube.com/watch?v=wWF71AtKm7E\">Alim McNeill Is A BEAST For The Lions - YouTube</a></td>\n",
       "                           <td>Alim doesn't get a lot of hype but he's a top 10 DT imo. I think he's gonna have a huge 2024 season for The Lions with double digit sacks.</td>\n",
       "                           <td>https://i.ytimg.com/vi/wWF71AtKm7E/mqdefault.jpg?sqp=-oaymwEFCJQBEFM&rs=AMzJL3nsm_9Q3gP0XlJP3xacRtERJRA5Sg</td>\n",
       "                         </tr>\n",
       "<tr>\n",
       "                           <td><a href=\"https://www.youtube.com/watch?v=Difxt8qW0cs\">Opening Day and the Detroit Lions still get the loudest ovation</a></td>\n",
       "                           <td>Opening Day and the Detroit Lions still get the loudest ovation. 1.8K views · 5 hours ago Locked On Lions Podcast ...more. Locked On Lions. 10.7 ...</td>\n",
       "                           <td>https://i.ytimg.com/vi/Difxt8qW0cs/mqdefault.jpg?sqp=-oaymwEFCJQBEFM&rs=AMzJL3nVHORSmC8Qp8liO59MNEfkPBPkaQ</td>\n",
       "                         </tr>\n",
       "<tr>\n",
       "                           <td><a href=\"https://www.youtube.com/watch?v=TCUpU3dcZvU\">Detroit Lions Mailbag Rumors: Sign Xavien Howard & Tyler ...</a></td>\n",
       "                           <td>Detroit Lions rumors begin with the Detroit Lions signing Free Agenct CB Xavien Howard. The Lions need help on defense and get a veteran CB ...</td>\n",
       "                           <td>https://i.ytimg.com/vi/TCUpU3dcZvU/mqdefault.jpg?sqp=-oaymwEFCJQBEFM&rs=AMzJL3nPek0pKF5q9EJo-Kkc6llMyh5QuA</td>\n",
       "                         </tr>\n",
       "<tr>\n",
       "                           <td><a href=\"https://www.youtube.com/watch?v=IKruZqpva4s\">How Much BETTER Are the Detroit Lions? - YouTube</a></td>\n",
       "                           <td>Ryan Ermanni, Braylon Edwards and Tom Mazawey discuss the Detroit Lions free agent signings and how the crop of new players will affect the ...</td>\n",
       "                           <td>https://i.ytimg.com/vi/IKruZqpva4s/mqdefault.jpg?sqp=-oaymwEFCJQBEFM&rs=AMzJL3mjl4P_pMfRT16kFOXcI1dvmNyq6w</td>\n",
       "                         </tr>\n",
       "<tr>\n",
       "                           <td><a href=\"https://www.youtube.com/watch?v=dYSSHgYPERM\">I Don't Think We Realize What The Detroit Lions Just Did..</a></td>\n",
       "                           <td>No mention of Amik Robertson coming to the lions from the raiders. I'm excited to see what he can do too he wanted to be a lion baaaad.</td>\n",
       "                           <td>https://i.ytimg.com/vi/dYSSHgYPERM/mqdefault.jpg?sqp=-oaymwEFCJQBEFM&rs=AMzJL3ly3aAsp2Ma_rifiEf4PsddliNd0A</td>\n",
       "                         </tr>\n",
       "<tr>\n",
       "                           <td><a href=\"https://www.youtube.com/watch?v=Fvxq3w_jR8A\">Detroit Lions Are Setting Up A Huge Draft Move - YouTube</a></td>\n",
       "                           <td>Detroit Lions Are Setting Up A Huge Draft Move. detroit lions news and rumors. detroit lions are for sure going to trade their pick in the ...</td>\n",
       "                           <td>https://i.ytimg.com/vi/Fvxq3w_jR8A/mqdefault.jpg?sqp=-oaymwEFCJQBEFM&rs=AMzJL3nrmm2_-p_OJruEODf9H9armk6Btg</td>\n",
       "                         </tr>\n",
       "<tr>\n",
       "                           <td><a href=\"https://www.detroitlions.com/video/zeitler-on-living-up-to-the-standard-that-s-been-set\">Zeitler on living up to the standard that's been set - Detroit Lions</a></td>\n",
       "                           <td>Wood on continued growth throughout the organization. President and CEO Rod Wood speaks to the media about the future of the Lions organization at the 2024 NFL ...</td>\n",
       "                           <td>https://encrypted-tbn0.gstatic.com/images?q=tbn:ANd9GcSVOSzC6dO3nIo29HBfspJQObbJVNOR7qBiQLeSEZeCcjsp&s</td>\n",
       "                         </tr></table>"
      ],
      "text/plain": [
       "<IPython.core.display.HTML object>"
      ]
     },
     "metadata": {},
     "output_type": "display_data"
    }
   ],
   "source": [
    "if search_type == \"images\":\n",
    "    rows = \"\\n\".join([\"\"\"<tr>\n",
    "                           <td><a href=\\\"{0}\\\">{1}</a></td>\n",
    "                           <td>{2}</td>\n",
    "                         </tr>\"\"\".format(v[\"link\"], v[\"title\"], v[\"imageUrl\"])\n",
    "                      for v in search_results[\"images\"]])\n",
    "    display(HTML(\"<table>{0}</table>\".format(rows)))\n",
    "elif search_type == \"videos\":\n",
    "    rows = \"\\n\".join([\"\"\"<tr>\n",
    "                           <td><a href=\\\"{0}\\\">{1}</a></td>\n",
    "                           <td>{2}</td>\n",
    "                           <td>{3}</td>\n",
    "                         </tr>\"\"\".format(v[\"link\"], v[\"title\"], v[\"snippet\"], v[\"imageUrl\"])\n",
    "                      for v in search_results[\"videos\"]])\n",
    "    display(HTML(\"<table>{0}</table>\".format(rows)))"
   ]
  },
  {
   "cell_type": "code",
   "execution_count": null,
   "id": "f7e23d70-e969-40de-8a1d-06b44610ccbb",
   "metadata": {},
   "outputs": [],
   "source": []
  }
 ],
 "metadata": {
  "kernelspec": {
   "display_name": "Python 3 (ipykernel)",
   "language": "python",
   "name": "python3"
  },
  "language_info": {
   "codemirror_mode": {
    "name": "ipython",
    "version": 3
   },
   "file_extension": ".py",
   "mimetype": "text/x-python",
   "name": "python",
   "nbconvert_exporter": "python",
   "pygments_lexer": "ipython3",
   "version": "3.10.13"
  }
 },
 "nbformat": 4,
 "nbformat_minor": 5
}
