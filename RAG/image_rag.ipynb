{
 "cells": [
  {
   "cell_type": "code",
   "execution_count": null,
   "id": "bf037b19-3475-4850-9fd0-d99a713331ce",
   "metadata": {},
   "outputs": [],
   "source": [
    "import matplotlib.pyplot as plt\n",
    "from PIL import Image\n",
    "from utils import build_image_database"
   ]
  },
  {
   "cell_type": "code",
   "execution_count": null,
   "id": "72c0d164-4aa0-40c0-9ecb-60fa731e97fb",
   "metadata": {},
   "outputs": [],
   "source": [
    "### give a image fold path，build image database\n",
    "img_collection = build_image_database(fold_path = '/mnt/petrelfs/liuziyu/V3Det/Soda/RAG/artwork_img/',database_name = 'test')"
   ]
  },
  {
   "cell_type": "code",
   "execution_count": null,
   "id": "4175c116-96ed-4279-a440-4474d4f40c41",
   "metadata": {},
   "outputs": [],
   "source": [
    "### input a image, then retrieve\n",
    "test_image_path = \"./test_img.jpg\"\n",
    "n_pictures = 1\n",
    "ans = img_collection.query(\n",
    "        query_uris=[test_image_path], # A list of strings representing URIs to data\n",
    "        n_results=n_pictures\n",
    "    )"
   ]
  },
  {
   "cell_type": "code",
   "execution_count": null,
   "id": "e434db62-c47a-4b56-8784-503e2ed14526",
   "metadata": {},
   "outputs": [],
   "source": [
    "retrieved_image_path = '/mnt/petrelfs/liuziyu/V3Det/Soda/RAG/artwork_img/'+ ans[\"metadatas\"][0][0][\"ID\"]+'.jpg'\n",
    "retrieved_image_path"
   ]
  },
  {
   "cell_type": "code",
   "execution_count": null,
   "id": "154c4c94-c71a-4bba-8135-dd9a443ada5e",
   "metadata": {},
   "outputs": [],
   "source": [
    "### show results\n",
    "image_path1 = test_image_path\n",
    "image_path2 = retrieved_image_path\n",
    "\n",
    "image1 = Image.open(image_path1)\n",
    "image2 = Image.open(image_path2)\n",
    "\n",
    "fig, axes = plt.subplots(1, 2, figsize=(12, 6))\n",
    "\n",
    "axes[0].imshow(image1)\n",
    "axes[0].set_title('Original Image')\n",
    "axes[0].axis('off')\n",
    "\n",
    "axes[1].imshow(image2)\n",
    "axes[1].set_title('Retrieved Image')\n",
    "axes[1].axis('off')\n",
    "\n",
    "plt.show()"
   ]
  },
  {
   "cell_type": "code",
   "execution_count": null,
   "id": "f921cd03-f5d6-4809-b47e-6c2d2da32dc8",
   "metadata": {},
   "outputs": [],
   "source": []
  }
 ],
 "metadata": {
  "kernelspec": {
   "display_name": "Python 3 (ipykernel)",
   "language": "python",
   "name": "python3"
  },
  "language_info": {
   "codemirror_mode": {
    "name": "ipython",
    "version": 3
   },
   "file_extension": ".py",
   "mimetype": "text/x-python",
   "name": "python",
   "nbconvert_exporter": "python",
   "pygments_lexer": "ipython3",
   "version": "3.10.13"
  }
 },
 "nbformat": 4,
 "nbformat_minor": 5
}
